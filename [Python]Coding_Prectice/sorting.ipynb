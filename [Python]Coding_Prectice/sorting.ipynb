{
 "cells": [
  {
   "cell_type": "code",
   "execution_count": 4,
   "id": "fbc42ea1-941c-412c-8c15-d26f5cc8f26d",
   "metadata": {
    "tags": []
   },
   "outputs": [],
   "source": [
    "#선택정렬\n",
    "array =  [7, 5, 9, 0, 3, 1, 6, 2, 4, 8]\n",
    "for i in range(len(array)):\n",
    "    min_idx = i\n",
    "    for j in range(i,len(array)):\n",
    "        if array[min_idx]>array[j]:\n",
    "            min_idx = j\n",
    "    array[min_idx], array[i] = array[i], array[min_idx]\n",
    "    "
   ]
  },
  {
   "cell_type": "code",
   "execution_count": 7,
   "id": "a13796e6-e6d0-4233-8a7d-f209dbe9860e",
   "metadata": {
    "tags": []
   },
   "outputs": [],
   "source": [
    "#삽입정렬\n",
    "array =  [7, 5, 9, 0, 3, 1, 6, 2, 4, 8]\n",
    "for i in range(1, len(array)):\n",
    "    for j in range(i,0,-1):\n",
    "        if array[j]<array[j-1]:\n",
    "            array[j], array[j-1] = array[j-1], array[j]\n",
    "        else:\n",
    "            break\n"
   ]
  },
  {
   "cell_type": "code",
   "execution_count": 15,
   "id": "efcf5f20-b75b-4835-86c6-f63f72203876",
   "metadata": {
    "tags": []
   },
   "outputs": [],
   "source": [
    "#버블정렬\n",
    "array =  [7, 5, 9, 0, 3, 1, 6, 2, 4, 8]\n",
    "for i in range(len(array), 0, -1):\n",
    "    for j in range(1,i):\n",
    "        if array[j] < array[j-1]:\n",
    "            array[j], array[j-1] = array[j-1], array[j]\n"
   ]
  },
  {
   "cell_type": "code",
   "execution_count": 29,
   "id": "5ef4b6d9-d9bd-411a-842a-0ee5d2338a03",
   "metadata": {
    "tags": []
   },
   "outputs": [
    {
     "name": "stdout",
     "output_type": "stream",
     "text": [
      "[7, 5, 9, 0, 3, 1, 6, 2, 4, 8]\n",
      "[0, 1, 2, 3, 4, 5, 6, 7, 8, 9]\n"
     ]
    }
   ],
   "source": [
    "#퀵소트\n",
    "array =  [7, 5, 9, 0, 3, 1, 6, 2, 4, 8]\n",
    "def quicksort(arr, start, end):\n",
    "    if start>=end:\n",
    "        return\n",
    "    \n",
    "    pivot = start\n",
    "    left = start+1\n",
    "    right = end\n",
    "    while left<=right:\n",
    "        while left<= end and arr[pivot] >= arr[left]:\n",
    "            left += 1\n",
    "        while right>start and arr[pivot] <= arr[right]:\n",
    "            right -= 1\n",
    "        #arr중 가장 작은 숫자와 pivot과 change\n",
    "        if left>right:\n",
    "            arr[pivot], arr[right] = arr[right], arr[pivot]\n",
    "        else:#left, right과 change\n",
    "            array[left], array[right] = array[right], array[left]\n",
    "    quicksort(arr, start, right-1)\n",
    "    quicksort(arr, right+1, end)\n",
    "print(array)\n",
    "quicksort(array, 0, len(array)-1)\n",
    "print(array)"
   ]
  },
  {
   "cell_type": "code",
   "execution_count": 78,
   "id": "785fdacf-5abb-466c-aa36-f1bbf94663d4",
   "metadata": {
    "tags": []
   },
   "outputs": [
    {
     "data": {
      "text/plain": [
       "2"
      ]
     },
     "execution_count": 78,
     "metadata": {},
     "output_type": "execute_result"
    }
   ],
   "source": [
    "import random\n",
    "random.randint(1,2)"
   ]
  },
  {
   "cell_type": "code",
   "execution_count": 89,
   "id": "28248ab9-fe8a-4351-aaf0-dd892a184dba",
   "metadata": {
    "tags": []
   },
   "outputs": [
    {
     "name": "stdout",
     "output_type": "stream",
     "text": [
      "[5, 4, 1, 2]\n"
     ]
    }
   ],
   "source": [
    "import random\n",
    "arr = [5,1,2,4]\n",
    "random.shuffle(arr)\n",
    "print(arr)\n"
   ]
  },
  {
   "cell_type": "code",
   "execution_count": 90,
   "id": "044edb8c-cfbb-41dc-9d9f-8db98276965c",
   "metadata": {
    "tags": []
   },
   "outputs": [
    {
     "ename": "SyntaxError",
     "evalue": "invalid syntax (360274373.py, line 1)",
     "output_type": "error",
     "traceback": [
      "\u001b[1;36m  Cell \u001b[1;32mIn[90], line 1\u001b[1;36m\u001b[0m\n\u001b[1;33m    int findMedianIndex(int *arr, int a, int b, int c) {\u001b[0m\n\u001b[1;37m        ^\u001b[0m\n\u001b[1;31mSyntaxError\u001b[0m\u001b[1;31m:\u001b[0m invalid syntax\n"
     ]
    }
   ],
   "source": []
  },
  {
   "cell_type": "code",
   "execution_count": null,
   "id": "2800650d-8613-4d69-b2bb-3002a2c38d84",
   "metadata": {
    "tags": []
   },
   "outputs": [],
   "source": [
    "#퀵소트\n",
    "import random\n",
    "array =  [7, 5, 9, 0, 3, 1, 6, 2, 4, 8]\n",
    "def quicksort(arr, start, end):\n",
    "    if start>=end:\n",
    "        return\n",
    "    \n",
    "    # pivot = random.randint(start, end)\n",
    "    pivot = (start+end)//2\n",
    "    left = start\n",
    "    right = end\n",
    "    while left<=right:\n",
    "        while left<= end and arr[pivot] >= arr[left]:\n",
    "            left += 1\n",
    "        while right>start and arr[pivot] <= arr[right]:\n",
    "            right -= 1\n",
    "        #arr중 가장 작은 숫자와 pivot과 change\n",
    "        if left>right:\n",
    "            arr[pivot], arr[right] = arr[right], arr[pivot]\n",
    "        else:#left, right과 change\n",
    "            array[left], array[right] = array[right], array[left]\n",
    "    quicksort(arr, start, right-1)\n",
    "    quicksort(arr, right+1, end)\n",
    "print(array)\n",
    "quicksort(array, 0, len(array)-1)\n",
    "print(array)"
   ]
  },
  {
   "cell_type": "code",
   "execution_count": 30,
   "id": "8690e4cd-2a48-465b-929b-dbf90c6e6416",
   "metadata": {
    "tags": []
   },
   "outputs": [],
   "source": [
    "#계수정렬 \n",
    "#정렬개념은 아닌거같고 카운팅임. 정렬이라니까 일단 정렬이라고 씀..\n",
    "array =  [7, 5, 9, 0, 3, 1, 6, 2, 4, 8]\n",
    "list_count = [0 for i in range(len(array))]\n",
    "for a in array:\n",
    "    list_count[a-1]+=1"
   ]
  },
  {
   "cell_type": "code",
   "execution_count": null,
   "id": "6d2b628c-a54b-4db5-9892-0e3ae7e5f833",
   "metadata": {},
   "outputs": [],
   "source": []
  },
  {
   "cell_type": "code",
   "execution_count": 4,
   "id": "0e7d7eeb-3f13-447c-ad6d-1b5e449f46c5",
   "metadata": {
    "tags": []
   },
   "outputs": [],
   "source": [
    "#random pivot based quicksort\n",
    "#improved origin quicksort algorithm\n",
    "\n",
    "def swap(A, i, j):\n",
    "\ttmp = A[i]\n",
    "\tA[i] = A[j]\n",
    "\tA[j] = tmp\n",
    "\n",
    "def quick_sort(A, left, right):\n",
    "\tif left < right:\n",
    "\t\tp = partition(A, left, right)\n",
    "\n",
    "\t\t# p 기준으로 왼쪽 값들은 p보다 작고 오른쪽 값들은 p보다 큼\n",
    "\t\tquick_sort(A,left, p-1)\n",
    "\t\tquick_sort(A,p+1,right)\n",
    "\n",
    "def partition(A, left, right):\n",
    "\n",
    "\timport random\n",
    "\t# 랜덤하게 pivot 생성\n",
    "\tpivot_index = random.randint(left, right)\n",
    "\tpivot_value = A[pivot_index]\n",
    "\n",
    "\t# 피벗값과 right의 값을 swap\n",
    "\tswap(A, pivot_index, right)\n",
    "\n",
    "    # store_index를 기준으로\n",
    "    # 왼쪽에 pivot_value보다 작은 값들 위치시킴\n",
    "\tstore_index = left\n",
    "\tfor i in range(left, right):\n",
    "\t\tif A[i] < pivot_value:\n",
    "\t\t\tswap(A, i, store_index)\n",
    "\t\t\tstore_index += 1\n",
    "\tswap(A, right, store_index)\n",
    "\treturn store_index\n",
    "\n",
    "import random\n",
    "n = input()\n",
    "arr = [int(input()) for _ in range(int(n))]\n",
    "# A = [random.randint(0,100) for _ in range(0,10)]\n",
    "# print(A)\n",
    "quick_sort(arr, 0, len(arr)-1)\n",
    "for a in sorted(arr): print(a)\n"
   ]
  }
 ],
 "metadata": {
  "kernelspec": {
   "display_name": "Python 3 (ipykernel)",
   "language": "python",
   "name": "python3"
  },
  "language_info": {
   "codemirror_mode": {
    "name": "ipython",
    "version": 3
   },
   "file_extension": ".py",
   "mimetype": "text/x-python",
   "name": "python",
   "nbconvert_exporter": "python",
   "pygments_lexer": "ipython3",
   "version": "3.10.11"
  }
 },
 "nbformat": 4,
 "nbformat_minor": 5
}
