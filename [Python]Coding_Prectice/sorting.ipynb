{
 "cells": [
  {
   "cell_type": "code",
   "execution_count": 4,
   "id": "fbc42ea1-941c-412c-8c15-d26f5cc8f26d",
   "metadata": {
    "tags": []
   },
   "outputs": [],
   "source": [
    "#선택정렬\n",
    "array =  [7, 5, 9, 0, 3, 1, 6, 2, 4, 8]\n",
    "for i in range(len(array)):\n",
    "    min_idx = i\n",
    "    for j in range(i,len(array)):\n",
    "        if array[min_idx]>array[j]:\n",
    "            min_idx = j\n",
    "    array[min_idx], array[i] = array[i], array[min_idx]\n",
    "    "
   ]
  },
  {
   "cell_type": "code",
   "execution_count": 7,
   "id": "a13796e6-e6d0-4233-8a7d-f209dbe9860e",
   "metadata": {
    "tags": []
   },
   "outputs": [],
   "source": [
    "#삽입정렬\n",
    "array =  [7, 5, 9, 0, 3, 1, 6, 2, 4, 8]\n",
    "for i in range(1, len(array)):\n",
    "    for j in range(i,0,-1):\n",
    "        if array[j]<array[j-1]:\n",
    "            array[j], array[j-1] = array[j-1], array[j]\n",
    "        else:\n",
    "            break\n"
   ]
  },
  {
   "cell_type": "code",
   "execution_count": 15,
   "id": "efcf5f20-b75b-4835-86c6-f63f72203876",
   "metadata": {
    "tags": []
   },
   "outputs": [],
   "source": [
    "#버블정렬\n",
    "array =  [7, 5, 9, 0, 3, 1, 6, 2, 4, 8]\n",
    "for i in range(len(array), 0, -1):\n",
    "    for j in range(1,i):\n",
    "        if array[j] < array[j-1]:\n",
    "            array[j], array[j-1] = array[j-1], array[j]\n"
   ]
  },
  {
   "cell_type": "code",
   "execution_count": 29,
   "id": "5ef4b6d9-d9bd-411a-842a-0ee5d2338a03",
   "metadata": {
    "tags": []
   },
   "outputs": [
    {
     "name": "stdout",
     "output_type": "stream",
     "text": [
      "[7, 5, 9, 0, 3, 1, 6, 2, 4, 8]\n",
      "[0, 1, 2, 3, 4, 5, 6, 7, 8, 9]\n"
     ]
    }
   ],
   "source": [
    "#퀵소트\n",
    "array =  [7, 5, 9, 0, 3, 1, 6, 2, 4, 8]\n",
    "def quicksort(arr, start, end):\n",
    "    if start>=end:\n",
    "        return\n",
    "    \n",
    "    pivot = start\n",
    "    left = start+1\n",
    "    right = end\n",
    "    while left<=right:\n",
    "        while left<= end and arr[pivot] >= arr[left]:\n",
    "            left += 1\n",
    "        while right>start and arr[pivot] <= arr[right]:\n",
    "            right -= 1\n",
    "        #arr중 가장 작은 숫자와 pivot과 change\n",
    "        if left>right:\n",
    "            arr[pivot], arr[right] = arr[right], arr[pivot]\n",
    "        else:#left, right과 change\n",
    "            array[left], array[right] = array[right], array[left]\n",
    "    quicksort(arr, start, right-1)\n",
    "    quicksort(arr, right+1, end)\n",
    "print(array)\n",
    "quicksort(array, 0, len(array)-1)\n",
    "print(array)"
   ]
  },
  {
   "cell_type": "code",
   "execution_count": 30,
   "id": "8690e4cd-2a48-465b-929b-dbf90c6e6416",
   "metadata": {
    "tags": []
   },
   "outputs": [],
   "source": [
    "#계수정렬 \n",
    "#정렬개념은 아닌거같고 카운팅임. 정렬이라니까 일단 정렬이라고 씀..\n",
    "array =  [7, 5, 9, 0, 3, 1, 6, 2, 4, 8]\n",
    "list_count = [0 for i in range(len(array))]\n",
    "for a in array:\n",
    "    list_count[a-1]+=1"
   ]
  }
 ],
 "metadata": {
  "kernelspec": {
   "display_name": "Python 3 (ipykernel)",
   "language": "python",
   "name": "python3"
  },
  "language_info": {
   "codemirror_mode": {
    "name": "ipython",
    "version": 3
   },
   "file_extension": ".py",
   "mimetype": "text/x-python",
   "name": "python",
   "nbconvert_exporter": "python",
   "pygments_lexer": "ipython3",
   "version": "3.10.11"
  }
 },
 "nbformat": 4,
 "nbformat_minor": 5
}
